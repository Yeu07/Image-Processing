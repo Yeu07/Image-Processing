{
 "cells": [
  {
   "cell_type": "markdown",
   "metadata": {},
   "source": [
    "# Procesamiento de Imágenes\n",
    "# Trabajo Práctico Nº1"
   ]
  },
  {
   "cell_type": "markdown",
   "metadata": {},
   "source": [
    "## 1. Modos de color en imagenes"
   ]
  },
  {
   "cell_type": "markdown",
   "metadata": {},
   "source": [
    "1. Utilizando openCV en python, cargar una imagen RGB y mostrarla en una ventana utilizando el\n",
    "comando imread() y imshow(), tambien puede utilizar matplotlib para mostrarla."
   ]
  },
  {
   "cell_type": "markdown",
   "metadata": {},
   "source": [
    "2. Una vez cargada la imagen de muestra podemos empezar usando numpy y su función array para\n",
    "obtener el arreglo de valores de intensidad para cada uno de los canales de color."
   ]
  },
  {
   "cell_type": "markdown",
   "metadata": {},
   "source": [
    "3. Retomando con el ejercicio 1, analizar la imagen cargada ¿Existe algún problema con los colores\n",
    "mostrados con respecto a la imagen original?"
   ]
  },
  {
   "cell_type": "markdown",
   "metadata": {},
   "source": [
    "4. Cargar la imagen pero antes de mostrarla utilizar el comando cvtColor(). ¿Qué sucede ahora?"
   ]
  },
  {
   "cell_type": "markdown",
   "metadata": {},
   "source": [
    "5. Utilizar la función split() para una imagen RGB y separar en canales."
   ]
  },
  {
   "cell_type": "markdown",
   "metadata": {},
   "source": [
    "6. (*) La conversión de una imagen de color a escala de grises se puede hacer de varias formas. El ejercicio consiste en convertir la imagen de Lenna color a escala de grises utilizando diferentes métodos.\n",
    "(a) Usando la libreria cv2 y el método cvtColor()\n",
    "(b) Usando la f ́ormula de luminancia\n",
    "(c) Usando scickit-image y el método rgb2gray()\n",
    "(d) ¿Qué pasa con los canales?\n",
    "(e) ¿Qué profundidad de bits tiene la imagen?\n",
    "(f) Evaluar con otra imagen de mayor profundidad\n",
    "(g) ¿Qué sucede con la imagen? ¿Ha cambiado algo?\n"
   ]
  },
  {
   "cell_type": "markdown",
   "metadata": {},
   "source": [
    "7. (*) Convertir la imagen de Lenna a otros modos de color, como CMYK, HSV, HSL. Mostrar el\n",
    "resultado."
   ]
  },
  {
   "cell_type": "markdown",
   "metadata": {},
   "source": [
    "8. (*) Tomar la imagen convertida en escala de grises y volver a convertir al en modo RGB. ¿Qué ha\n",
    "sucedido?"
   ]
  },
  {
   "cell_type": "markdown",
   "metadata": {},
   "source": [
    "9. Cargar una imagen en color con OpenCV. Extrae los valores de un píxel en la posici ́on (x, y). Modifica un  ́area de la imagen (por ejemplo, convierte una región a rojo puro). Divide la imagen en sus tres canales de color (B, G, R) y muestra cada uno por separado."
   ]
  },
  {
   "cell_type": "markdown",
   "metadata": {},
   "source": [
    "## 2. Compresion de Imagenes"
   ]
  },
  {
   "cell_type": "markdown",
   "metadata": {},
   "source": [
    "1. ¿El formato BMP es un formato de compresión?"
   ]
  },
  {
   "cell_type": "markdown",
   "metadata": {},
   "source": [
    "2. (*) Dar detalles de las siguientes m ́etricas de calidad de compresión (PSNR, SSIM)"
   ]
  },
  {
   "cell_type": "markdown",
   "metadata": {},
   "source": [
    "3. ¿Cúal es el impacto de la compresión en el procesamiento posterior de una imagen?"
   ]
  },
  {
   "cell_type": "markdown",
   "metadata": {},
   "source": [
    "4. Cargar una imagen en color. Guarda la imagen con diferentes niveles de calidad (ejemplo: 90%, 50%,\n",
    "10%). Comparar el tamaño, resolución, calidad, profundidad de bits de los archivos y la pérdida de\n",
    "calidad. ¿Qué puede comentar de las im ́agenes resultantes?"
   ]
  },
  {
   "cell_type": "markdown",
   "metadata": {},
   "source": [
    "5. Guardar una imagen en formato PNG con distintos niveles de compresión (0 a 9). Comparar el\n",
    "tamaño de los archivos generados."
   ]
  },
  {
   "cell_type": "markdown",
   "metadata": {},
   "source": [
    "6. (*) Implementar un modelo de compresión basado en codificación Run-Length Encoding (RLE). El\n",
    "algoritmo Run-Length Encoding (RLE) reduce el tamaño de una imagen representando secuencias\n",
    "consecutivas de píxeles idénticos como una sola entrada. Para ello convertir una imagen en escala de\n",
    "grises. luego, implementar el algoritmo RLE para comprimir la imagen. Posteriormente, implementar\n",
    "una función para descomprimir la imagen. Al finalizar, mostrar la imagen original y la imagen\n",
    "reconstruida. Probar con dos o tres imagenes que tengan diferentes características, modos de color.\n",
    "utilizar alguna de las metricas nombradas anteriormente y evaluar el resultado de la misma."
   ]
  }
 ],
 "metadata": {
  "language_info": {
   "name": "python"
  }
 },
 "nbformat": 4,
 "nbformat_minor": 2
}
