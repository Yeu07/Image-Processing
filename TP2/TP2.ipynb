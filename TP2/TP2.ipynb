{
 "cells": [
  {
   "cell_type": "markdown",
   "metadata": {},
   "source": [
    "# Procesamiento de Imágenes\n",
    "# Trabajo Práctico Nº2"
   ]
  },
  {
   "cell_type": "markdown",
   "metadata": {},
   "source": [
    "## 1. Histogramas"
   ]
  },
  {
   "cell_type": "code",
   "execution_count": 17,
   "metadata": {},
   "outputs": [],
   "source": [
    "import cv2\n",
    "from PIL import Image\n",
    "import os\n",
    "import numpy as np"
   ]
  },
  {
   "cell_type": "markdown",
   "metadata": {},
   "source": [
    "## 2. Combinación de imágenes"
   ]
  },
  {
   "cell_type": "markdown",
   "metadata": {},
   "source": [
    "1. Suma de imágenes con ponderación: Cargar dos imágenes del mismo tamaño y combı́nalas con una\n",
    "ponderación especı́fica usando la función cv2.addWeighted().\n"
   ]
  },
  {
   "cell_type": "code",
   "execution_count": 13,
   "metadata": {},
   "outputs": [
    {
     "name": "stdout",
     "output_type": "stream",
     "text": [
      "| Resolución: 225x225 | Profundidad de color: 8 | Tamaño: 1912 kb\n",
      "--------------------------------------------------\n",
      "| Resolución: 225x225 | Profundidad de color: 8 | Tamaño: 8822 kb\n",
      "--------------------------------------------------\n"
     ]
    }
   ],
   "source": [
    "def load_image(path):\n",
    "    return Image.open(path)\n",
    "\n",
    "def get_image_parameters(path):\n",
    "    image = Image.open(path)\n",
    "    width, height = image.size\n",
    "    bit_depth = image.bits\n",
    "    size = os.path.getsize(path)\n",
    "    return width, height, bit_depth, size\n",
    "\n",
    "def convert_bgr_to_rgb(image):\n",
    "    return cv2.cvtColor(image,cv2.COLOR_BGR2RGB)\n",
    "\n",
    "def convert_rgb_to_bgr(image):\n",
    "    return cv2.cvtColor(image,cv2.COLOR_RGB2BGR)\n",
    "\n",
    "def print_image_data(path):\n",
    "    width, height,bit_depth,size = get_image_parameters(path)\n",
    "    print(f\"| Resolución: {width}x{height} | Profundidad de color: {bit_depth} | Tamaño: {size} kb\")\n",
    "    print(\"-\" * 50)\n",
    "\n",
    "def open_image_cv2(path):\n",
    "    return cv2.imread(path)\n",
    "\n",
    "def save_image(path, image):\n",
    "    cv2.imwrite(path, image)\n",
    "\n",
    "print_image_data(\"../Images/Windows.jpeg\")\n",
    "print_image_data(\"../Images/Linux.jpeg\")\n",
    "\n",
    "windows_image = open_image_cv2(\"../Images/Windows.jpeg\")\n",
    "linux_image = open_image_cv2(\"../Images/Linux.jpeg\")\n",
    "\n",
    "\n",
    "alpha = 0.0\n",
    "while alpha <= 1.0:\n",
    "    beta = 1.0 - alpha\n",
    "    added_image = cv2.addWeighted(windows_image,alpha,linux_image,beta,0.0)\n",
    "    save_image(f\"Part2/1/added_image_alpha_{alpha}.jpeg\",added_image)\n",
    "    alpha += 0.2\n",
    "\n",
    "\n"
   ]
  },
  {
   "cell_type": "markdown",
   "metadata": {},
   "source": [
    "2. Resta de imágenes: Realizar la resta de dos imágenes para resaltar las diferencias entre ellas con\n",
    "cv2.subtract()."
   ]
  },
  {
   "cell_type": "code",
   "execution_count": 14,
   "metadata": {},
   "outputs": [],
   "source": [
    "windows_subtract_linux = cv2.subtract(windows_image,linux_image)\n",
    "linux_subtract_windows = cv2.subtract(linux_image,windows_image)\n",
    "\n",
    "save_image(\"Part2/2/windows_subtract_linux.jpeg\", windows_subtract_linux)\n",
    "save_image(\"Part2/2/linux_subtract_windows.jpeg\", linux_subtract_windows)"
   ]
  },
  {
   "cell_type": "markdown",
   "metadata": {},
   "source": [
    "3. (*) Multiplicación y división de imágenes: Multiplicar y divide dos imágenes pı́xel a pı́xel utilizando cv2.multiply() y cv2.divide(), observando cómo afecta el brillo y contraste."
   ]
  },
  {
   "cell_type": "code",
   "execution_count": 42,
   "metadata": {},
   "outputs": [],
   "source": [
    "#We need resize the type of the image to avoid overflow\n",
    "linux_image_32 = linux_image.astype(np.float32)\n",
    "windows_image_32 = windows_image.astype(np.float32)\n",
    "\n",
    "img_multiply = cv2.multiply(windows_image_32,linux_image_32)\n",
    "\n",
    "#Need to normalize\n",
    "img_multiply = cv2.normalize(img_multiply,None,0,255,cv2.NORM_MINMAX, dtype=cv2.CV_8U)\n",
    "\n",
    "save_image(\"Part2/3/multiply.jpeg\",img_multiply)"
   ]
  },
  {
   "cell_type": "code",
   "execution_count": null,
   "metadata": {},
   "outputs": [],
   "source": [
    "#ToDo ask in class\n",
    "\n",
    "# Avoid Zero division adding a insignificantly value to the divisor image\n",
    "epsilon = 1e-7\n",
    "linux_image_32 = linux_image_32 + epsilon\n",
    "img_divide = cv2.divide(windows_image_32,linux_image_32)\n",
    "\n",
    "#Normalize the image\n",
    "img_divide = cv2.normalize(img_divide,None,0,255,cv2.NORM_MINMAX).astype(np.uint8)\n",
    "\n",
    "save_image(\"Part2/3/divide.jpeg\",img_divide)\n"
   ]
  },
  {
   "cell_type": "markdown",
   "metadata": {},
   "source": [
    "4. Máscara binaria con operadores relacionales: Convierte una imagen a escala de grises y genera una\n",
    "máscara binaria donde los valores sean mayores a un umbral con operadores relacionales (¿, ¡)."
   ]
  },
  {
   "cell_type": "markdown",
   "metadata": {},
   "source": [
    "5. (*) Combinación con operadores lógicos: Usa operadores booleanos (cv2.bitwise and, cv2.bitwise or,\n",
    "cv2.bitwise xor) para fusionar imágenes basándose en una máscara binaria. Describir que sucede en\n",
    "cada caso"
   ]
  },
  {
   "cell_type": "markdown",
   "metadata": {},
   "source": [
    "6. Creación de una imagen compuesta: Utilizar una imagen con fondo negro y otra con fondo blanco,\n",
    "aplicando una máscara binaria para superponer un objeto de una imagen sobre otra."
   ]
  },
  {
   "cell_type": "markdown",
   "metadata": {},
   "source": [
    "7. Operaciones avanzadas con imágenes en color: Cargar imágenes en color y realiza operaciones ar-\n",
    "itméticas como suma y resta, observando cómo afectan cada canal de color (R, G, B)."
   ]
  },
  {
   "cell_type": "markdown",
   "metadata": {},
   "source": [
    "8. (*) Uso de operadores lógicos para reemplazar partes de una imagen: Reemplazar un área especı́fica\n",
    "de una imagen con otra utilizando operadores lógicos y relacionales para definir la región de interés\n",
    "(ROI)."
   ]
  },
  {
   "cell_type": "markdown",
   "metadata": {},
   "source": [
    "## 3. Dominio Espacial"
   ]
  }
 ],
 "metadata": {
  "kernelspec": {
   "display_name": "venv",
   "language": "python",
   "name": "python3"
  },
  "language_info": {
   "codemirror_mode": {
    "name": "ipython",
    "version": 3
   },
   "file_extension": ".py",
   "mimetype": "text/x-python",
   "name": "python",
   "nbconvert_exporter": "python",
   "pygments_lexer": "ipython3",
   "version": "3.13.2"
  }
 },
 "nbformat": 4,
 "nbformat_minor": 2
}
