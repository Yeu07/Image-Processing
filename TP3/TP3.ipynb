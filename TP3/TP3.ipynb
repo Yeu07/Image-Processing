{
 "cells": [
  {
   "cell_type": "markdown",
   "metadata": {},
   "source": [
    "# Procesamiento de Imágenes\n",
    "# Trabajo Practico 3"
   ]
  },
  {
   "cell_type": "markdown",
   "metadata": {},
   "source": [
    "### 1. Transformada de Fourier (FT) en 2D: Realiza la transformada de Fourier de una imagen en escala de grises utilizando la función fft2 de NumPy. Muestra la imagen original y su transformada de Fourier (usando imshow de Matplotlib)."
   ]
  },
  {
   "cell_type": "markdown",
   "metadata": {},
   "source": [
    "### 2. Centro de la Transformada de Fourier: Centra la transformada de Fourier de una imagen usando fftshift. Muestra la imagen original y su transformada centrada."
   ]
  },
  {
   "cell_type": "markdown",
   "metadata": {},
   "source": [
    "### 3. Magnitud y fase: Extrae y muestra la magnitud y fase de la transformada de Fourier centrada. Muestra las imágenes de la magnitud y la fase por separado."
   ]
  },
  {
   "cell_type": "markdown",
   "metadata": {},
   "source": [
    "### 4. Filtro pasa bajos ideal: Aplica un filtro pasa bajos ideal en el dominio frecuencial para suprimir altas frecuencias. Muestra la imagen original y la imagen filtrada en el dominio frecuencial."
   ]
  },
  {
   "cell_type": "markdown",
   "metadata": {},
   "source": [
    "### 5. Filtro pasa bajos gaussiano: Implementa un filtro pasa bajos gaussiano y aplı́calo a la transformada de Fourier de una imagen. Compara la imagen original y la imagen filtrada."
   ]
  },
  {
   "cell_type": "markdown",
   "metadata": {},
   "source": [
    "### 6. Filtro pasa altos ideal: Aplica un filtro pasa altos ideal para eliminar las frecuencias bajas de una imagen. Muestra la imagen original y la imagen filtrada."
   ]
  },
  {
   "cell_type": "markdown",
   "metadata": {},
   "source": [
    "### 7. Filtro pasa altos gaussiano: Implementa un filtro pasa altos gaussiano y aplı́calo a la transformada de Fourier. Compara la imagen original con la imagen filtrada."
   ]
  },
  {
   "cell_type": "markdown",
   "metadata": {},
   "source": [
    "### 8. Filtro de Butterworth pasa bajos: Aplica un filtro de Butterworth pasa bajos de orden 2 a la trans-formada de Fourier de una imagen. Muestra la imagen original y la imagen filtrada."
   ]
  },
  {
   "cell_type": "markdown",
   "metadata": {},
   "source": [
    "### 9. Filtro de Butterworth pasa altos: Aplica un filtro de Butterworth pasa altos de orden 2 a la trans- formada de Fourier. Compara la imagen original y la imagen filtrada."
   ]
  },
  {
   "cell_type": "markdown",
   "metadata": {},
   "source": [
    "### 10. Eliminación de ruido en el dominio frecuencial: Añade ruido a una imagen y luego usa un filtro pasa bajos gaussiano para eliminarlo en el dominio frecuencial. Muestra la imagen con ruido y la imagen restaurada."
   ]
  },
  {
   "cell_type": "markdown",
   "metadata": {},
   "source": [
    "### 11. Enmascaramiento en el dominio frecuencial: Crea una máscara de alta frecuencia y aplica un enmas-carado en el dominio frecuencial para enfatizar los bordes de la imagen. Muestra la imagen original y la imagen con bordes enfatizados."
   ]
  },
  {
   "cell_type": "markdown",
   "metadata": {},
   "source": [
    "### 12. Transformada de Fourier inversa: Realiza la transformada de Fourier inversa para recuperar la imagen original a partir de su versión filtrada en el dominio frecuencial. Compara la imagen original con la imagen recuperada."
   ]
  }
 ],
 "metadata": {
  "language_info": {
   "name": "python"
  }
 },
 "nbformat": 4,
 "nbformat_minor": 2
}
